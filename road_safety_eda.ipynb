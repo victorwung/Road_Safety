{
 "cells": [
  {
   "cell_type": "markdown",
   "metadata": {},
   "source": [
    "# Road Safety Data\n",
    "#### 資料來源\n",
    "https://data.gov.uk/dataset/cb7ae6f0-4be6-4935-9277-47e5ce24a11f/road-safety-data\n",
    "\n",
    "#### EDA 目標\n",
    "- 事故數量的年趨勢、死亡事故佔比的年趨勢\n",
    "- 從事故總數量及死亡事故佔比來觀察，哪些維度(原因)可能導致一場事故為死亡事故\n",
    "\n",
    "#### 觀察維度\n",
    "- 一週的星期幾\n",
    "- 一天的哪個時段\n",
    "- 都市或鄉村\n",
    "- 駕駛人性別\n",
    "- 駕駛人年齡區間\n",
    "- 事故中容易死亡的人是誰(駕駛、乘客、行人)"
   ]
  },
  {
   "cell_type": "code",
   "execution_count": 1,
   "metadata": {},
   "outputs": [],
   "source": [
    "import pandas as pd\n",
    "import numpy as np\n",
    "import glob\n",
    "import matplotlib.pyplot as plt\n",
    "import seaborn as sns\n",
    "import warnings\n",
    "warnings.filterwarnings(\"ignore\")"
   ]
  },
  {
   "cell_type": "code",
   "execution_count": 2,
   "metadata": {},
   "outputs": [],
   "source": [
    "pd.set_option(\"display.max_columns\", None)"
   ]
  },
  {
   "cell_type": "markdown",
   "metadata": {},
   "source": [
    "## 1. Data Input\n",
    "- Data range: 2015 - 2019\n",
    "- Data tables: accidents, casualties, vehicles"
   ]
  },
  {
   "cell_type": "code",
   "execution_count": 3,
   "metadata": {},
   "outputs": [
    {
     "name": "stdout",
     "output_type": "stream",
     "text": [
      "accidents: (646830, 32)\n"
     ]
    },
    {
     "data": {
      "text/html": [
       "<div>\n",
       "<style scoped>\n",
       "    .dataframe tbody tr th:only-of-type {\n",
       "        vertical-align: middle;\n",
       "    }\n",
       "\n",
       "    .dataframe tbody tr th {\n",
       "        vertical-align: top;\n",
       "    }\n",
       "\n",
       "    .dataframe thead th {\n",
       "        text-align: right;\n",
       "    }\n",
       "</style>\n",
       "<table border=\"1\" class=\"dataframe\">\n",
       "  <thead>\n",
       "    <tr style=\"text-align: right;\">\n",
       "      <th></th>\n",
       "      <th>Accident_Index</th>\n",
       "      <th>Location_Easting_OSGR</th>\n",
       "      <th>Location_Northing_OSGR</th>\n",
       "      <th>Longitude</th>\n",
       "      <th>Latitude</th>\n",
       "      <th>Police_Force</th>\n",
       "      <th>Accident_Severity</th>\n",
       "      <th>Number_of_Vehicles</th>\n",
       "      <th>Number_of_Casualties</th>\n",
       "      <th>Date</th>\n",
       "      <th>Day_of_Week</th>\n",
       "      <th>Time</th>\n",
       "      <th>Local_Authority_(District)</th>\n",
       "      <th>Local_Authority_(Highway)</th>\n",
       "      <th>1st_Road_Class</th>\n",
       "      <th>1st_Road_Number</th>\n",
       "      <th>Road_Type</th>\n",
       "      <th>Speed_limit</th>\n",
       "      <th>Junction_Detail</th>\n",
       "      <th>Junction_Control</th>\n",
       "      <th>2nd_Road_Class</th>\n",
       "      <th>2nd_Road_Number</th>\n",
       "      <th>Pedestrian_Crossing-Human_Control</th>\n",
       "      <th>Pedestrian_Crossing-Physical_Facilities</th>\n",
       "      <th>Light_Conditions</th>\n",
       "      <th>Weather_Conditions</th>\n",
       "      <th>Road_Surface_Conditions</th>\n",
       "      <th>Special_Conditions_at_Site</th>\n",
       "      <th>Carriageway_Hazards</th>\n",
       "      <th>Urban_or_Rural_Area</th>\n",
       "      <th>Did_Police_Officer_Attend_Scene_of_Accident</th>\n",
       "      <th>LSOA_of_Accident_Location</th>\n",
       "    </tr>\n",
       "  </thead>\n",
       "  <tbody>\n",
       "    <tr>\n",
       "      <th>0</th>\n",
       "      <td>2017010001708</td>\n",
       "      <td>532920.0</td>\n",
       "      <td>196330.0</td>\n",
       "      <td>-0.080107</td>\n",
       "      <td>51.650061</td>\n",
       "      <td>1</td>\n",
       "      <td>1</td>\n",
       "      <td>2</td>\n",
       "      <td>3</td>\n",
       "      <td>05/08/2017</td>\n",
       "      <td>7</td>\n",
       "      <td>03:12</td>\n",
       "      <td>32</td>\n",
       "      <td>E09000010</td>\n",
       "      <td>3</td>\n",
       "      <td>105</td>\n",
       "      <td>6</td>\n",
       "      <td>30.0</td>\n",
       "      <td>0</td>\n",
       "      <td>-1</td>\n",
       "      <td>-1</td>\n",
       "      <td>0</td>\n",
       "      <td>0</td>\n",
       "      <td>0</td>\n",
       "      <td>4</td>\n",
       "      <td>1</td>\n",
       "      <td>1</td>\n",
       "      <td>0</td>\n",
       "      <td>0</td>\n",
       "      <td>1</td>\n",
       "      <td>1</td>\n",
       "      <td>E01001450</td>\n",
       "    </tr>\n",
       "    <tr>\n",
       "      <th>1</th>\n",
       "      <td>2017010009342</td>\n",
       "      <td>526790.0</td>\n",
       "      <td>181970.0</td>\n",
       "      <td>-0.173845</td>\n",
       "      <td>51.522425</td>\n",
       "      <td>1</td>\n",
       "      <td>3</td>\n",
       "      <td>2</td>\n",
       "      <td>1</td>\n",
       "      <td>01/01/2017</td>\n",
       "      <td>1</td>\n",
       "      <td>01:30</td>\n",
       "      <td>1</td>\n",
       "      <td>E09000033</td>\n",
       "      <td>3</td>\n",
       "      <td>5</td>\n",
       "      <td>6</td>\n",
       "      <td>30.0</td>\n",
       "      <td>3</td>\n",
       "      <td>4</td>\n",
       "      <td>6</td>\n",
       "      <td>0</td>\n",
       "      <td>0</td>\n",
       "      <td>0</td>\n",
       "      <td>4</td>\n",
       "      <td>1</td>\n",
       "      <td>2</td>\n",
       "      <td>0</td>\n",
       "      <td>0</td>\n",
       "      <td>1</td>\n",
       "      <td>1</td>\n",
       "      <td>E01004702</td>\n",
       "    </tr>\n",
       "    <tr>\n",
       "      <th>2</th>\n",
       "      <td>2017010009344</td>\n",
       "      <td>535200.0</td>\n",
       "      <td>181260.0</td>\n",
       "      <td>-0.052969</td>\n",
       "      <td>51.514096</td>\n",
       "      <td>1</td>\n",
       "      <td>3</td>\n",
       "      <td>3</td>\n",
       "      <td>1</td>\n",
       "      <td>01/01/2017</td>\n",
       "      <td>1</td>\n",
       "      <td>00:30</td>\n",
       "      <td>5</td>\n",
       "      <td>E09000030</td>\n",
       "      <td>3</td>\n",
       "      <td>13</td>\n",
       "      <td>6</td>\n",
       "      <td>30.0</td>\n",
       "      <td>3</td>\n",
       "      <td>4</td>\n",
       "      <td>5</td>\n",
       "      <td>0</td>\n",
       "      <td>0</td>\n",
       "      <td>0</td>\n",
       "      <td>4</td>\n",
       "      <td>1</td>\n",
       "      <td>1</td>\n",
       "      <td>0</td>\n",
       "      <td>0</td>\n",
       "      <td>1</td>\n",
       "      <td>1</td>\n",
       "      <td>E01004298</td>\n",
       "    </tr>\n",
       "    <tr>\n",
       "      <th>3</th>\n",
       "      <td>2017010009348</td>\n",
       "      <td>534340.0</td>\n",
       "      <td>193560.0</td>\n",
       "      <td>-0.060658</td>\n",
       "      <td>51.624832</td>\n",
       "      <td>1</td>\n",
       "      <td>3</td>\n",
       "      <td>2</td>\n",
       "      <td>1</td>\n",
       "      <td>01/01/2017</td>\n",
       "      <td>1</td>\n",
       "      <td>01:11</td>\n",
       "      <td>32</td>\n",
       "      <td>E09000010</td>\n",
       "      <td>3</td>\n",
       "      <td>1010</td>\n",
       "      <td>1</td>\n",
       "      <td>30.0</td>\n",
       "      <td>1</td>\n",
       "      <td>4</td>\n",
       "      <td>4</td>\n",
       "      <td>154</td>\n",
       "      <td>0</td>\n",
       "      <td>4</td>\n",
       "      <td>4</td>\n",
       "      <td>2</td>\n",
       "      <td>2</td>\n",
       "      <td>0</td>\n",
       "      <td>0</td>\n",
       "      <td>1</td>\n",
       "      <td>1</td>\n",
       "      <td>E01001429</td>\n",
       "    </tr>\n",
       "    <tr>\n",
       "      <th>4</th>\n",
       "      <td>2017010009350</td>\n",
       "      <td>533680.0</td>\n",
       "      <td>187820.0</td>\n",
       "      <td>-0.072372</td>\n",
       "      <td>51.573408</td>\n",
       "      <td>1</td>\n",
       "      <td>2</td>\n",
       "      <td>1</td>\n",
       "      <td>1</td>\n",
       "      <td>01/01/2017</td>\n",
       "      <td>1</td>\n",
       "      <td>01:42</td>\n",
       "      <td>4</td>\n",
       "      <td>E09000012</td>\n",
       "      <td>3</td>\n",
       "      <td>107</td>\n",
       "      <td>3</td>\n",
       "      <td>20.0</td>\n",
       "      <td>6</td>\n",
       "      <td>2</td>\n",
       "      <td>3</td>\n",
       "      <td>10</td>\n",
       "      <td>0</td>\n",
       "      <td>5</td>\n",
       "      <td>4</td>\n",
       "      <td>1</td>\n",
       "      <td>2</td>\n",
       "      <td>0</td>\n",
       "      <td>0</td>\n",
       "      <td>1</td>\n",
       "      <td>1</td>\n",
       "      <td>E01001808</td>\n",
       "    </tr>\n",
       "  </tbody>\n",
       "</table>\n",
       "</div>"
      ],
      "text/plain": [
       "  Accident_Index  Location_Easting_OSGR  Location_Northing_OSGR  Longitude  \\\n",
       "0  2017010001708               532920.0                196330.0  -0.080107   \n",
       "1  2017010009342               526790.0                181970.0  -0.173845   \n",
       "2  2017010009344               535200.0                181260.0  -0.052969   \n",
       "3  2017010009348               534340.0                193560.0  -0.060658   \n",
       "4  2017010009350               533680.0                187820.0  -0.072372   \n",
       "\n",
       "    Latitude  Police_Force  Accident_Severity  Number_of_Vehicles  \\\n",
       "0  51.650061             1                  1                   2   \n",
       "1  51.522425             1                  3                   2   \n",
       "2  51.514096             1                  3                   3   \n",
       "3  51.624832             1                  3                   2   \n",
       "4  51.573408             1                  2                   1   \n",
       "\n",
       "   Number_of_Casualties        Date  Day_of_Week   Time  \\\n",
       "0                     3  05/08/2017            7  03:12   \n",
       "1                     1  01/01/2017            1  01:30   \n",
       "2                     1  01/01/2017            1  00:30   \n",
       "3                     1  01/01/2017            1  01:11   \n",
       "4                     1  01/01/2017            1  01:42   \n",
       "\n",
       "   Local_Authority_(District) Local_Authority_(Highway)  1st_Road_Class  \\\n",
       "0                          32                 E09000010               3   \n",
       "1                           1                 E09000033               3   \n",
       "2                           5                 E09000030               3   \n",
       "3                          32                 E09000010               3   \n",
       "4                           4                 E09000012               3   \n",
       "\n",
       "   1st_Road_Number  Road_Type  Speed_limit  Junction_Detail  Junction_Control  \\\n",
       "0              105          6         30.0                0                -1   \n",
       "1                5          6         30.0                3                 4   \n",
       "2               13          6         30.0                3                 4   \n",
       "3             1010          1         30.0                1                 4   \n",
       "4              107          3         20.0                6                 2   \n",
       "\n",
       "   2nd_Road_Class  2nd_Road_Number  Pedestrian_Crossing-Human_Control  \\\n",
       "0              -1                0                                  0   \n",
       "1               6                0                                  0   \n",
       "2               5                0                                  0   \n",
       "3               4              154                                  0   \n",
       "4               3               10                                  0   \n",
       "\n",
       "   Pedestrian_Crossing-Physical_Facilities  Light_Conditions  \\\n",
       "0                                        0                 4   \n",
       "1                                        0                 4   \n",
       "2                                        0                 4   \n",
       "3                                        4                 4   \n",
       "4                                        5                 4   \n",
       "\n",
       "   Weather_Conditions  Road_Surface_Conditions  Special_Conditions_at_Site  \\\n",
       "0                   1                        1                           0   \n",
       "1                   1                        2                           0   \n",
       "2                   1                        1                           0   \n",
       "3                   2                        2                           0   \n",
       "4                   1                        2                           0   \n",
       "\n",
       "   Carriageway_Hazards  Urban_or_Rural_Area  \\\n",
       "0                    0                    1   \n",
       "1                    0                    1   \n",
       "2                    0                    1   \n",
       "3                    0                    1   \n",
       "4                    0                    1   \n",
       "\n",
       "   Did_Police_Officer_Attend_Scene_of_Accident LSOA_of_Accident_Location  \n",
       "0                                            1                 E01001450  \n",
       "1                                            1                 E01004702  \n",
       "2                                            1                 E01004298  \n",
       "3                                            1                 E01001429  \n",
       "4                                            1                 E01001808  "
      ]
     },
     "execution_count": 3,
     "metadata": {},
     "output_type": "execute_result"
    }
   ],
   "source": [
    "accidents = pd.concat([pd.read_csv(f, compression='zip', low_memory=False) for f in glob.glob('data/*Accidents*.zip')])\n",
    "accidents = accidents.reset_index(drop=True) # reset index\n",
    "accidents['Accident_Index'] = accidents['Accident_Index'].astype(str)\n",
    "print('accidents:', accidents.shape)\n",
    "accidents.head()"
   ]
  },
  {
   "cell_type": "code",
   "execution_count": 4,
   "metadata": {},
   "outputs": [
    {
     "name": "stdout",
     "output_type": "stream",
     "text": [
      "casualties: (852321, 16)\n"
     ]
    },
    {
     "data": {
      "text/html": [
       "<div>\n",
       "<style scoped>\n",
       "    .dataframe tbody tr th:only-of-type {\n",
       "        vertical-align: middle;\n",
       "    }\n",
       "\n",
       "    .dataframe tbody tr th {\n",
       "        vertical-align: top;\n",
       "    }\n",
       "\n",
       "    .dataframe thead th {\n",
       "        text-align: right;\n",
       "    }\n",
       "</style>\n",
       "<table border=\"1\" class=\"dataframe\">\n",
       "  <thead>\n",
       "    <tr style=\"text-align: right;\">\n",
       "      <th></th>\n",
       "      <th>Accident_Index</th>\n",
       "      <th>Age_Band_of_Casualty</th>\n",
       "      <th>Age_of_Casualty</th>\n",
       "      <th>Bus_or_Coach_Passenger</th>\n",
       "      <th>Car_Passenger</th>\n",
       "      <th>Casualty_Class</th>\n",
       "      <th>Casualty_Home_Area_Type</th>\n",
       "      <th>Casualty_IMD_Decile</th>\n",
       "      <th>Casualty_Reference</th>\n",
       "      <th>Casualty_Severity</th>\n",
       "      <th>Casualty_Type</th>\n",
       "      <th>Pedestrian_Location</th>\n",
       "      <th>Pedestrian_Movement</th>\n",
       "      <th>Pedestrian_Road_Maintenance_Worker</th>\n",
       "      <th>Sex_of_Casualty</th>\n",
       "      <th>Vehicle_Reference</th>\n",
       "    </tr>\n",
       "  </thead>\n",
       "  <tbody>\n",
       "    <tr>\n",
       "      <th>0</th>\n",
       "      <td>2016010000005</td>\n",
       "      <td>5</td>\n",
       "      <td>23</td>\n",
       "      <td>0</td>\n",
       "      <td>0</td>\n",
       "      <td>1</td>\n",
       "      <td>1</td>\n",
       "      <td>4</td>\n",
       "      <td>1</td>\n",
       "      <td>3</td>\n",
       "      <td>2</td>\n",
       "      <td>0</td>\n",
       "      <td>0</td>\n",
       "      <td>0</td>\n",
       "      <td>1</td>\n",
       "      <td>2</td>\n",
       "    </tr>\n",
       "    <tr>\n",
       "      <th>1</th>\n",
       "      <td>2016010000006</td>\n",
       "      <td>7</td>\n",
       "      <td>36</td>\n",
       "      <td>0</td>\n",
       "      <td>0</td>\n",
       "      <td>1</td>\n",
       "      <td>1</td>\n",
       "      <td>10</td>\n",
       "      <td>1</td>\n",
       "      <td>3</td>\n",
       "      <td>9</td>\n",
       "      <td>0</td>\n",
       "      <td>0</td>\n",
       "      <td>0</td>\n",
       "      <td>2</td>\n",
       "      <td>1</td>\n",
       "    </tr>\n",
       "    <tr>\n",
       "      <th>2</th>\n",
       "      <td>2016010000008</td>\n",
       "      <td>5</td>\n",
       "      <td>24</td>\n",
       "      <td>0</td>\n",
       "      <td>0</td>\n",
       "      <td>1</td>\n",
       "      <td>1</td>\n",
       "      <td>8</td>\n",
       "      <td>1</td>\n",
       "      <td>3</td>\n",
       "      <td>9</td>\n",
       "      <td>0</td>\n",
       "      <td>0</td>\n",
       "      <td>0</td>\n",
       "      <td>1</td>\n",
       "      <td>1</td>\n",
       "    </tr>\n",
       "    <tr>\n",
       "      <th>3</th>\n",
       "      <td>2016010000016</td>\n",
       "      <td>9</td>\n",
       "      <td>59</td>\n",
       "      <td>3</td>\n",
       "      <td>0</td>\n",
       "      <td>2</td>\n",
       "      <td>1</td>\n",
       "      <td>4</td>\n",
       "      <td>1</td>\n",
       "      <td>3</td>\n",
       "      <td>11</td>\n",
       "      <td>0</td>\n",
       "      <td>0</td>\n",
       "      <td>0</td>\n",
       "      <td>2</td>\n",
       "      <td>1</td>\n",
       "    </tr>\n",
       "    <tr>\n",
       "      <th>4</th>\n",
       "      <td>2016010000018</td>\n",
       "      <td>6</td>\n",
       "      <td>28</td>\n",
       "      <td>0</td>\n",
       "      <td>0</td>\n",
       "      <td>1</td>\n",
       "      <td>1</td>\n",
       "      <td>6</td>\n",
       "      <td>1</td>\n",
       "      <td>3</td>\n",
       "      <td>1</td>\n",
       "      <td>0</td>\n",
       "      <td>0</td>\n",
       "      <td>0</td>\n",
       "      <td>1</td>\n",
       "      <td>2</td>\n",
       "    </tr>\n",
       "  </tbody>\n",
       "</table>\n",
       "</div>"
      ],
      "text/plain": [
       "  Accident_Index  Age_Band_of_Casualty  Age_of_Casualty  \\\n",
       "0  2016010000005                     5               23   \n",
       "1  2016010000006                     7               36   \n",
       "2  2016010000008                     5               24   \n",
       "3  2016010000016                     9               59   \n",
       "4  2016010000018                     6               28   \n",
       "\n",
       "   Bus_or_Coach_Passenger  Car_Passenger  Casualty_Class  \\\n",
       "0                       0              0               1   \n",
       "1                       0              0               1   \n",
       "2                       0              0               1   \n",
       "3                       3              0               2   \n",
       "4                       0              0               1   \n",
       "\n",
       "   Casualty_Home_Area_Type  Casualty_IMD_Decile  Casualty_Reference  \\\n",
       "0                        1                    4                   1   \n",
       "1                        1                   10                   1   \n",
       "2                        1                    8                   1   \n",
       "3                        1                    4                   1   \n",
       "4                        1                    6                   1   \n",
       "\n",
       "   Casualty_Severity  Casualty_Type  Pedestrian_Location  Pedestrian_Movement  \\\n",
       "0                  3              2                    0                    0   \n",
       "1                  3              9                    0                    0   \n",
       "2                  3              9                    0                    0   \n",
       "3                  3             11                    0                    0   \n",
       "4                  3              1                    0                    0   \n",
       "\n",
       "   Pedestrian_Road_Maintenance_Worker  Sex_of_Casualty  Vehicle_Reference  \n",
       "0                                   0                1                  2  \n",
       "1                                   0                2                  1  \n",
       "2                                   0                1                  1  \n",
       "3                                   0                2                  1  \n",
       "4                                   0                1                  2  "
      ]
     },
     "execution_count": 4,
     "metadata": {},
     "output_type": "execute_result"
    }
   ],
   "source": [
    "casualties = pd.concat([pd.read_csv(f, compression='zip') for f in glob.glob('data/*Casualties*.zip')], sort=True)\n",
    "casualties['Accident_Index'] = casualties['Accident_Index'].astype(str)\n",
    "print('casualties:', casualties.shape)\n",
    "casualties.head()"
   ]
  },
  {
   "cell_type": "code",
   "execution_count": 5,
   "metadata": {},
   "outputs": [
    {
     "name": "stdout",
     "output_type": "stream",
     "text": [
      "vehicles: (1192061, 23)\n"
     ]
    },
    {
     "data": {
      "text/html": [
       "<div>\n",
       "<style scoped>\n",
       "    .dataframe tbody tr th:only-of-type {\n",
       "        vertical-align: middle;\n",
       "    }\n",
       "\n",
       "    .dataframe tbody tr th {\n",
       "        vertical-align: top;\n",
       "    }\n",
       "\n",
       "    .dataframe thead th {\n",
       "        text-align: right;\n",
       "    }\n",
       "</style>\n",
       "<table border=\"1\" class=\"dataframe\">\n",
       "  <thead>\n",
       "    <tr style=\"text-align: right;\">\n",
       "      <th></th>\n",
       "      <th>1st_Point_of_Impact</th>\n",
       "      <th>Accident_Index</th>\n",
       "      <th>Age_Band_of_Driver</th>\n",
       "      <th>Age_of_Driver</th>\n",
       "      <th>Age_of_Vehicle</th>\n",
       "      <th>Driver_Home_Area_Type</th>\n",
       "      <th>Driver_IMD_Decile</th>\n",
       "      <th>Engine_Capacity_(CC)</th>\n",
       "      <th>Hit_Object_in_Carriageway</th>\n",
       "      <th>Hit_Object_off_Carriageway</th>\n",
       "      <th>Journey_Purpose_of_Driver</th>\n",
       "      <th>Junction_Location</th>\n",
       "      <th>Propulsion_Code</th>\n",
       "      <th>Sex_of_Driver</th>\n",
       "      <th>Skidding_and_Overturning</th>\n",
       "      <th>Towing_and_Articulation</th>\n",
       "      <th>Vehicle_IMD_Decile</th>\n",
       "      <th>Vehicle_Leaving_Carriageway</th>\n",
       "      <th>Vehicle_Location-Restricted_Lane</th>\n",
       "      <th>Vehicle_Manoeuvre</th>\n",
       "      <th>Vehicle_Reference</th>\n",
       "      <th>Vehicle_Type</th>\n",
       "      <th>Was_Vehicle_Left_Hand_Drive?</th>\n",
       "    </tr>\n",
       "  </thead>\n",
       "  <tbody>\n",
       "    <tr>\n",
       "      <th>0</th>\n",
       "      <td>3</td>\n",
       "      <td>201506E098757</td>\n",
       "      <td>7</td>\n",
       "      <td>45</td>\n",
       "      <td>11</td>\n",
       "      <td>1</td>\n",
       "      <td>-1</td>\n",
       "      <td>1794</td>\n",
       "      <td>0</td>\n",
       "      <td>0</td>\n",
       "      <td>6</td>\n",
       "      <td>8</td>\n",
       "      <td>1</td>\n",
       "      <td>1</td>\n",
       "      <td>0</td>\n",
       "      <td>0</td>\n",
       "      <td>-1</td>\n",
       "      <td>0</td>\n",
       "      <td>0</td>\n",
       "      <td>18</td>\n",
       "      <td>2</td>\n",
       "      <td>9</td>\n",
       "      <td>1</td>\n",
       "    </tr>\n",
       "    <tr>\n",
       "      <th>1</th>\n",
       "      <td>4</td>\n",
       "      <td>201506E098766</td>\n",
       "      <td>5</td>\n",
       "      <td>25</td>\n",
       "      <td>1</td>\n",
       "      <td>-1</td>\n",
       "      <td>-1</td>\n",
       "      <td>1582</td>\n",
       "      <td>0</td>\n",
       "      <td>0</td>\n",
       "      <td>6</td>\n",
       "      <td>8</td>\n",
       "      <td>2</td>\n",
       "      <td>2</td>\n",
       "      <td>0</td>\n",
       "      <td>0</td>\n",
       "      <td>-1</td>\n",
       "      <td>0</td>\n",
       "      <td>0</td>\n",
       "      <td>9</td>\n",
       "      <td>1</td>\n",
       "      <td>9</td>\n",
       "      <td>1</td>\n",
       "    </tr>\n",
       "    <tr>\n",
       "      <th>2</th>\n",
       "      <td>1</td>\n",
       "      <td>201506E098766</td>\n",
       "      <td>8</td>\n",
       "      <td>51</td>\n",
       "      <td>-1</td>\n",
       "      <td>1</td>\n",
       "      <td>-1</td>\n",
       "      <td>-1</td>\n",
       "      <td>0</td>\n",
       "      <td>0</td>\n",
       "      <td>6</td>\n",
       "      <td>8</td>\n",
       "      <td>-1</td>\n",
       "      <td>1</td>\n",
       "      <td>0</td>\n",
       "      <td>0</td>\n",
       "      <td>-1</td>\n",
       "      <td>0</td>\n",
       "      <td>0</td>\n",
       "      <td>18</td>\n",
       "      <td>2</td>\n",
       "      <td>9</td>\n",
       "      <td>1</td>\n",
       "    </tr>\n",
       "    <tr>\n",
       "      <th>3</th>\n",
       "      <td>1</td>\n",
       "      <td>201506E098777</td>\n",
       "      <td>8</td>\n",
       "      <td>50</td>\n",
       "      <td>1</td>\n",
       "      <td>1</td>\n",
       "      <td>-1</td>\n",
       "      <td>4462</td>\n",
       "      <td>0</td>\n",
       "      <td>0</td>\n",
       "      <td>1</td>\n",
       "      <td>0</td>\n",
       "      <td>2</td>\n",
       "      <td>1</td>\n",
       "      <td>0</td>\n",
       "      <td>0</td>\n",
       "      <td>-1</td>\n",
       "      <td>0</td>\n",
       "      <td>0</td>\n",
       "      <td>4</td>\n",
       "      <td>1</td>\n",
       "      <td>20</td>\n",
       "      <td>1</td>\n",
       "    </tr>\n",
       "    <tr>\n",
       "      <th>4</th>\n",
       "      <td>4</td>\n",
       "      <td>201506E098780</td>\n",
       "      <td>6</td>\n",
       "      <td>27</td>\n",
       "      <td>-1</td>\n",
       "      <td>1</td>\n",
       "      <td>-1</td>\n",
       "      <td>1598</td>\n",
       "      <td>0</td>\n",
       "      <td>0</td>\n",
       "      <td>6</td>\n",
       "      <td>1</td>\n",
       "      <td>2</td>\n",
       "      <td>1</td>\n",
       "      <td>0</td>\n",
       "      <td>0</td>\n",
       "      <td>-1</td>\n",
       "      <td>0</td>\n",
       "      <td>0</td>\n",
       "      <td>15</td>\n",
       "      <td>1</td>\n",
       "      <td>9</td>\n",
       "      <td>1</td>\n",
       "    </tr>\n",
       "  </tbody>\n",
       "</table>\n",
       "</div>"
      ],
      "text/plain": [
       "   1st_Point_of_Impact Accident_Index  Age_Band_of_Driver  Age_of_Driver  \\\n",
       "0                    3  201506E098757                   7             45   \n",
       "1                    4  201506E098766                   5             25   \n",
       "2                    1  201506E098766                   8             51   \n",
       "3                    1  201506E098777                   8             50   \n",
       "4                    4  201506E098780                   6             27   \n",
       "\n",
       "   Age_of_Vehicle  Driver_Home_Area_Type  Driver_IMD_Decile  \\\n",
       "0              11                      1                 -1   \n",
       "1               1                     -1                 -1   \n",
       "2              -1                      1                 -1   \n",
       "3               1                      1                 -1   \n",
       "4              -1                      1                 -1   \n",
       "\n",
       "   Engine_Capacity_(CC)  Hit_Object_in_Carriageway  \\\n",
       "0                  1794                          0   \n",
       "1                  1582                          0   \n",
       "2                    -1                          0   \n",
       "3                  4462                          0   \n",
       "4                  1598                          0   \n",
       "\n",
       "   Hit_Object_off_Carriageway  Journey_Purpose_of_Driver  Junction_Location  \\\n",
       "0                           0                          6                  8   \n",
       "1                           0                          6                  8   \n",
       "2                           0                          6                  8   \n",
       "3                           0                          1                  0   \n",
       "4                           0                          6                  1   \n",
       "\n",
       "   Propulsion_Code  Sex_of_Driver  Skidding_and_Overturning  \\\n",
       "0                1              1                         0   \n",
       "1                2              2                         0   \n",
       "2               -1              1                         0   \n",
       "3                2              1                         0   \n",
       "4                2              1                         0   \n",
       "\n",
       "   Towing_and_Articulation  Vehicle_IMD_Decile  Vehicle_Leaving_Carriageway  \\\n",
       "0                        0                  -1                            0   \n",
       "1                        0                  -1                            0   \n",
       "2                        0                  -1                            0   \n",
       "3                        0                  -1                            0   \n",
       "4                        0                  -1                            0   \n",
       "\n",
       "   Vehicle_Location-Restricted_Lane  Vehicle_Manoeuvre  Vehicle_Reference  \\\n",
       "0                                 0                 18                  2   \n",
       "1                                 0                  9                  1   \n",
       "2                                 0                 18                  2   \n",
       "3                                 0                  4                  1   \n",
       "4                                 0                 15                  1   \n",
       "\n",
       "   Vehicle_Type  Was_Vehicle_Left_Hand_Drive?  \n",
       "0             9                             1  \n",
       "1             9                             1  \n",
       "2             9                             1  \n",
       "3            20                             1  \n",
       "4             9                             1  "
      ]
     },
     "execution_count": 5,
     "metadata": {},
     "output_type": "execute_result"
    }
   ],
   "source": [
    "vehicles = pd.concat([pd.read_csv(f, compression='zip') for f in glob.glob('data/*Vehicles*.zip')], sort=True)\n",
    "vehicles['Accident_Index'] = vehicles['Accident_Index'].astype(str)\n",
    "print('vehicles:', vehicles.shape)\n",
    "vehicles.head()"
   ]
  },
  {
   "cell_type": "markdown",
   "metadata": {},
   "source": [
    "## 2. Data Preprocessing"
   ]
  },
  {
   "cell_type": "markdown",
   "metadata": {},
   "source": [
    "### 2.1. Date & Time"
   ]
  },
  {
   "cell_type": "code",
   "execution_count": 6,
   "metadata": {},
   "outputs": [],
   "source": [
    "accidents['Date'] = pd.to_datetime(accidents['Date'], format='%d/%m/%Y')"
   ]
  },
  {
   "cell_type": "code",
   "execution_count": 7,
   "metadata": {},
   "outputs": [],
   "source": [
    "# get year and month\n",
    "accidents['Year'] = accidents['Date'].dt.year\n",
    "accidents['Month'] = accidents['Date'].dt.month"
   ]
  },
  {
   "cell_type": "code",
   "execution_count": 8,
   "metadata": {},
   "outputs": [],
   "source": [
    "# get hour\n",
    "accidents['Hour'] = accidents['Time'].str[0:2]\n",
    "accidents['Hour'] = pd.to_numeric(accidents['Hour'])\n",
    "# accidents = accidents.dropna(subset=['Hour'])\n",
    "accidents['Hour'] = accidents['Hour'].fillna(-1)\n",
    "accidents['Hour'] = accidents['Hour'].astype('int')\n",
    "accidents = accidents.reset_index(drop=True) # reset index"
   ]
  },
  {
   "cell_type": "markdown",
   "metadata": {},
   "source": [
    "### 2.2. Missing Values"
   ]
  },
  {
   "cell_type": "code",
   "execution_count": 9,
   "metadata": {},
   "outputs": [
    {
     "name": "stdout",
     "output_type": "stream",
     "text": [
      "% of missing values in accidents: 0.05757 %\n"
     ]
    }
   ],
   "source": [
    "print('% of missing values in accidents:', round(accidents.isna().sum().sum()/len(accidents), 6), '%')"
   ]
  },
  {
   "cell_type": "code",
   "execution_count": 10,
   "metadata": {},
   "outputs": [
    {
     "name": "stdout",
     "output_type": "stream",
     "text": [
      "% of missing values in casualties: 0.0 %\n"
     ]
    }
   ],
   "source": [
    "print('% of missing values in casualties:', round(casualties.isna().sum().sum()/len(casualties), 6), '%')"
   ]
  },
  {
   "cell_type": "code",
   "execution_count": 11,
   "metadata": {},
   "outputs": [
    {
     "name": "stdout",
     "output_type": "stream",
     "text": [
      "% of missing values in vehicles: 0.0 %\n"
     ]
    }
   ],
   "source": [
    "print('% of missing values in vehicles:', round(vehicles.isna().sum().sum()/len(vehicles), 6), '%')"
   ]
  },
  {
   "cell_type": "markdown",
   "metadata": {},
   "source": [
    "## 3. Exploratory Data Analysis (EDA)"
   ]
  },
  {
   "cell_type": "markdown",
   "metadata": {},
   "source": [
    "### 3.1. 事故總數量的年趨勢、死亡事故佔比的年趨勢\n",
    "- 2015 - 2019 年事故數量趨勢\n",
    "- 2015 - 2019 年死亡事故佔比趨勢"
   ]
  },
  {
   "cell_type": "code",
   "execution_count": 12,
   "metadata": {},
   "outputs": [],
   "source": [
    "acc_year = accidents.groupby(['Year'])[['Accident_Index']].count().rename(columns={'Accident_Index': 'Accident_Cnt'}).reset_index()\n",
    "acc_year_fatal = accidents[accidents['Accident_Severity']==1].groupby(['Year'])[['Accident_Index']].count().rename(columns={'Accident_Index': 'Fatal_Cnt'}).reset_index()\n",
    "acc_year_comb = pd.merge(acc_year, acc_year_fatal, on=['Year'], how='inner')\n",
    "acc_year_comb['Fatal_Rate'] = round(acc_year_comb['Fatal_Cnt']/acc_year_comb['Accident_Cnt'], 6) * 100"
   ]
  },
  {
   "cell_type": "code",
   "execution_count": 13,
   "metadata": {},
   "outputs": [],
   "source": [
    "acc_year_comb['Year'] = acc_year_comb['Year'].astype(str)"
   ]
  },
  {
   "cell_type": "markdown",
   "metadata": {},
   "source": [
    "#### 事故數量 vs 年"
   ]
  },
  {
   "cell_type": "code",
   "execution_count": 14,
   "metadata": {},
   "outputs": [
    {
     "data": {
      "text/html": [
       "<div>\n",
       "<style scoped>\n",
       "    .dataframe tbody tr th:only-of-type {\n",
       "        vertical-align: middle;\n",
       "    }\n",
       "\n",
       "    .dataframe tbody tr th {\n",
       "        vertical-align: top;\n",
       "    }\n",
       "\n",
       "    .dataframe thead th {\n",
       "        text-align: right;\n",
       "    }\n",
       "</style>\n",
       "<table border=\"1\" class=\"dataframe\">\n",
       "  <thead>\n",
       "    <tr style=\"text-align: right;\">\n",
       "      <th></th>\n",
       "      <th>Accident_Cnt</th>\n",
       "    </tr>\n",
       "    <tr>\n",
       "      <th>Year</th>\n",
       "      <th></th>\n",
       "    </tr>\n",
       "  </thead>\n",
       "  <tbody>\n",
       "    <tr>\n",
       "      <th>2015</th>\n",
       "      <td>140056</td>\n",
       "    </tr>\n",
       "    <tr>\n",
       "      <th>2016</th>\n",
       "      <td>136621</td>\n",
       "    </tr>\n",
       "    <tr>\n",
       "      <th>2017</th>\n",
       "      <td>129982</td>\n",
       "    </tr>\n",
       "    <tr>\n",
       "      <th>2018</th>\n",
       "      <td>122635</td>\n",
       "    </tr>\n",
       "    <tr>\n",
       "      <th>2019</th>\n",
       "      <td>117536</td>\n",
       "    </tr>\n",
       "  </tbody>\n",
       "</table>\n",
       "</div>"
      ],
      "text/plain": [
       "      Accident_Cnt\n",
       "Year              \n",
       "2015        140056\n",
       "2016        136621\n",
       "2017        129982\n",
       "2018        122635\n",
       "2019        117536"
      ]
     },
     "execution_count": 14,
     "metadata": {},
     "output_type": "execute_result"
    }
   ],
   "source": [
    "acc_year_comb_all = acc_year_comb[['Year', 'Accident_Cnt']].copy().set_index('Year')\n",
    "acc_year_comb_all"
   ]
  },
  {
   "cell_type": "code",
   "execution_count": 15,
   "metadata": {},
   "outputs": [
    {
     "data": {
      "text/plain": [
       "[Text(0,0.5,'Total Count\\n'), Text(0.5,0,'')]"
      ]
     },
     "execution_count": 15,
     "metadata": {},
     "output_type": "execute_result"
    },
    {
     "data": {
      "image/png": "[encoded data removed]",
      "text/plain": [
       "<Figure size 720x288 with 1 Axes>"
      ]
     },
     "metadata": {},
     "output_type": "display_data"
    }
   ],
   "source": [
    "sns.set_style('white')\n",
    "fig, ax = plt.subplots(figsize=(10, 4))\n",
    "\n",
    "# plot\n",
    "acc_year_comb_all.plot(label='Accidents per Year', color='seagreen', ax=ax)\n",
    "\n",
    "ax.set_title('Accidents per Year', fontsize=14, fontweight='bold')\n",
    "ax.set(ylabel='Total Count\\n', xlabel='')"
   ]
  },
  {
   "cell_type": "markdown",
   "metadata": {},
   "source": [
    "#### 死亡事故佔比 vs 年"
   ]
  },
  {
   "cell_type": "code",
   "execution_count": 16,
   "metadata": {},
   "outputs": [
    {
     "data": {
      "text/html": [
       "<div>\n",
       "<style scoped>\n",
       "    .dataframe tbody tr th:only-of-type {\n",
       "        vertical-align: middle;\n",
       "    }\n",
       "\n",
       "    .dataframe tbody tr th {\n",
       "        vertical-align: top;\n",
       "    }\n",
       "\n",
       "    .dataframe thead th {\n",
       "        text-align: right;\n",
       "    }\n",
       "</style>\n",
       "<table border=\"1\" class=\"dataframe\">\n",
       "  <thead>\n",
       "    <tr style=\"text-align: right;\">\n",
       "      <th></th>\n",
       "      <th>Fatal_Rate</th>\n",
       "    </tr>\n",
       "    <tr>\n",
       "      <th>Year</th>\n",
       "      <th></th>\n",
       "    </tr>\n",
       "  </thead>\n",
       "  <tbody>\n",
       "    <tr>\n",
       "      <th>2015</th>\n",
       "      <td>1.1538</td>\n",
       "    </tr>\n",
       "    <tr>\n",
       "      <th>2016</th>\n",
       "      <td>1.2407</td>\n",
       "    </tr>\n",
       "    <tr>\n",
       "      <th>2017</th>\n",
       "      <td>1.2894</td>\n",
       "    </tr>\n",
       "    <tr>\n",
       "      <th>2018</th>\n",
       "      <td>1.3626</td>\n",
       "    </tr>\n",
       "    <tr>\n",
       "      <th>2019</th>\n",
       "      <td>1.4106</td>\n",
       "    </tr>\n",
       "  </tbody>\n",
       "</table>\n",
       "</div>"
      ],
      "text/plain": [
       "      Fatal_Rate\n",
       "Year            \n",
       "2015      1.1538\n",
       "2016      1.2407\n",
       "2017      1.2894\n",
       "2018      1.3626\n",
       "2019      1.4106"
      ]
     },
     "execution_count": 16,
     "metadata": {},
     "output_type": "execute_result"
    }
   ],
   "source": [
    "acc_year_comb_fatal = acc_year_comb[['Year', 'Fatal_Rate']].copy().set_index('Year')\n",
    "acc_year_comb_fatal"
   ]
  },
  {
   "cell_type": "code",
   "execution_count": 17,
   "metadata": {},
   "outputs": [
    {
     "data": {
      "text/plain": [
       "[Text(0,0.5,'Rate (%)\\n'), Text(0.5,0,'')]"
      ]
     },
     "execution_count": 17,
     "metadata": {},
     "output_type": "execute_result"
    },
    {
     "data": {
      "image/png": "[encoded data removed]",
      "text/plain": [
       "<Figure size 720x288 with 1 Axes>"
      ]
     },
     "metadata": {},
     "output_type": "display_data"
    }
   ],
   "source": [
    "sns.set_style('white')\n",
    "fig, ax = plt.subplots(figsize=(10, 4))\n",
    "\n",
    "# plot\n",
    "acc_year_comb_fatal.plot(label='Fatal Rate per Year', color='seagreen', ax=ax)\n",
    "\n",
    "ax.set_title('Fatal Rate per Year', fontsize=14, fontweight='bold')\n",
    "ax.set(ylabel='Rate (%)\\n', xlabel='')"
   ]
  },
  {
   "cell_type": "markdown",
   "metadata": {},
   "source": [
    "### 小結\n",
    "2015 - 2019 年事故數量趨勢變化，及死亡事故佔比趨勢變化？\n",
    "- 從 2015 年開始，每年事故數量逐年遞減，從 2015 年的 14 萬下降至 2019 年的 12 萬\n",
    "- 但是其中為死亡事故的佔比卻逐年上升，從 2015 年的 1.15% 上升至 2019 年的 1.41%"
   ]
  },
  {
   "cell_type": "markdown",
   "metadata": {},
   "source": [
    "### 3.2. 一週的星期幾\n",
    "- 星期一到星期日，哪一天最常發生事故？\n",
    "- 星期一到星期日，哪一天最常發生死亡事故？"
   ]
  },
  {
   "cell_type": "markdown",
   "metadata": {},
   "source": [
    "#### 事故數量 vs 星期"
   ]
  },
  {
   "cell_type": "code",
   "execution_count": 35,
   "metadata": {},
   "outputs": [],
   "source": [
    "acc_week = accidents.groupby(['Day_of_Week'])[['Accident_Index']].count().rename(columns={'Accident_Index': 'Accident_Cnt'}).reset_index()"
   ]
  },
  {
   "cell_type": "code",
   "execution_count": 36,
   "metadata": {},
   "outputs": [],
   "source": [
    "week_name = ['Sunday','Monday','Tuesday','Wednesday','Thursday','Friday','Saturday']"
   ]
  },
  {
   "cell_type": "code",
   "execution_count": 37,
   "metadata": {},
   "outputs": [],
   "source": [
    "acc_week.insert(0, 'Week', '')\n",
    "acc_week['Week'] = week_name\n",
    "acc_week = acc_week.drop('Day_of_Week', axis=1)\n",
    "acc_week = acc_week.set_index('Week')"
   ]
  },
  {
   "cell_type": "code",
   "execution_count": 38,
   "metadata": {},
   "outputs": [
    {
     "data": {
      "text/html": [
       "<div>\n",
       "<style scoped>\n",
       "    .dataframe tbody tr th:only-of-type {\n",
       "        vertical-align: middle;\n",
       "    }\n",
       "\n",
       "    .dataframe tbody tr th {\n",
       "        vertical-align: top;\n",
       "    }\n",
       "\n",
       "    .dataframe thead th {\n",
       "        text-align: right;\n",
       "    }\n",
       "</style>\n",
       "<table border=\"1\" class=\"dataframe\">\n",
       "  <thead>\n",
       "    <tr style=\"text-align: right;\">\n",
       "      <th></th>\n",
       "      <th>Accident_Cnt</th>\n",
       "    </tr>\n",
       "    <tr>\n",
       "      <th>Week</th>\n",
       "      <th></th>\n",
       "    </tr>\n",
       "  </thead>\n",
       "  <tbody>\n",
       "    <tr>\n",
       "      <th>Friday</th>\n",
       "      <td>105275</td>\n",
       "    </tr>\n",
       "    <tr>\n",
       "      <th>Thursday</th>\n",
       "      <td>98854</td>\n",
       "    </tr>\n",
       "    <tr>\n",
       "      <th>Wednesday</th>\n",
       "      <td>97730</td>\n",
       "    </tr>\n",
       "    <tr>\n",
       "      <th>Tuesday</th>\n",
       "      <td>96565</td>\n",
       "    </tr>\n",
       "    <tr>\n",
       "      <th>Monday</th>\n",
       "      <td>91627</td>\n",
       "    </tr>\n",
       "    <tr>\n",
       "      <th>Saturday</th>\n",
       "      <td>84784</td>\n",
       "    </tr>\n",
       "    <tr>\n",
       "      <th>Sunday</th>\n",
       "      <td>71995</td>\n",
       "    </tr>\n",
       "  </tbody>\n",
       "</table>\n",
       "</div>"
      ],
      "text/plain": [
       "           Accident_Cnt\n",
       "Week                   \n",
       "Friday           105275\n",
       "Thursday          98854\n",
       "Wednesday         97730\n",
       "Tuesday           96565\n",
       "Monday            91627\n",
       "Saturday          84784\n",
       "Sunday            71995"
      ]
     },
     "execution_count": 38,
     "metadata": {},
     "output_type": "execute_result"
    }
   ],
   "source": [
    "acc_week.sort_values(by='Accident_Cnt', ascending=False)"
   ]
  },
  {
   "cell_type": "code",
   "execution_count": 39,
   "metadata": {},
   "outputs": [
    {
     "data": {
      "text/plain": [
       "<matplotlib.legend.Legend at 0x250815a6898>"
      ]
     },
     "execution_count": 39,
     "metadata": {},
     "output_type": "execute_result"
    },
    {
     "data": {
      "image/png": "[encoded data removed]",
      "text/plain": [
       "<Figure size 720x360 with 1 Axes>"
      ]
     },
     "metadata": {},
     "output_type": "display_data"
    }
   ],
   "source": [
    "week_name_ordered = ['Sunday', 'Saturday', 'Friday', 'Thursday', 'Wednesday', 'Tuesday', 'Monday']\n",
    "fig, ax = plt.subplots(figsize=(10,5))\n",
    "colors=['darkseagreen', 'darkseagreen', 'seagreen', 'darkseagreen', \n",
    "        'darkseagreen', 'darkseagreen', 'darkseagreen']\n",
    "acc_week.reindex(week_name_ordered).plot(kind='barh', ax=ax, color=[colors])\n",
    "ax.set_title('\\nAccidents per Weekday\\n', fontsize=14, fontweight='bold')\n",
    "ax.set(xlabel='\\nNumber', ylabel='Week')\n",
    "ax.legend('')"
   ]
  },
  {
   "cell_type": "markdown",
   "metadata": {},
   "source": [
    "#### 每一類事故數量 vs 星期\n",
    "- 每一類是依據 `Accident_Severity` 欄位，有 fatal, serious, slight 三類"
   ]
  },
  {
   "cell_type": "code",
   "execution_count": 40,
   "metadata": {},
   "outputs": [],
   "source": [
    "def acc_week_severity(target):\n",
    "    acc_week_target = accidents[accidents['Accident_Severity']==target].groupby(['Day_of_Week'])[['Accident_Index']].count().rename(columns={'Accident_Index': 'Cnt_{}'.format(target)}).reset_index()\n",
    "    acc_week_target.insert(0, 'Week', '')\n",
    "    acc_week_target['Week'] = week_name\n",
    "    acc_week_target = acc_week_target.drop('Day_of_Week', axis=1)\n",
    "    return acc_week_target"
   ]
  },
  {
   "cell_type": "code",
   "execution_count": 41,
   "metadata": {},
   "outputs": [],
   "source": [
    "acc_week_fatal = acc_week_severity(1)\n",
    "acc_week_serious = acc_week_severity(2)\n",
    "acc_week_slight = acc_week_severity(3)"
   ]
  },
  {
   "cell_type": "code",
   "execution_count": 42,
   "metadata": {},
   "outputs": [],
   "source": [
    "# merge\n",
    "acc_week_comb = pd.merge(acc_week, acc_week_fatal, on='Week', how='inner')\n",
    "acc_week_comb = pd.merge(acc_week_comb, acc_week_serious, on='Week', how='inner')\n",
    "acc_week_comb = pd.merge(acc_week_comb, acc_week_slight, on='Week', how='inner')"
   ]
  },
  {
   "cell_type": "code",
   "execution_count": 43,
   "metadata": {},
   "outputs": [],
   "source": [
    "# rate\n",
    "acc_week_comb['Fatal_Rate'] = round(acc_week_comb['Cnt_1']/acc_week_comb['Accident_Cnt'], 6) * 100\n",
    "acc_week_comb['Serious_Rate'] = round(acc_week_comb['Cnt_2']/acc_week_comb['Accident_Cnt'], 6) * 100\n",
    "acc_week_comb['Slight_Rate'] = round(acc_week_comb['Cnt_3']/acc_week_comb['Accident_Cnt'], 6) * 100"
   ]
  },
  {
   "cell_type": "code",
   "execution_count": 46,
   "metadata": {},
   "outputs": [
    {
     "data": {
      "text/plain": [
       "<matplotlib.legend.Legend at 0x25081613c88>"
      ]
     },
     "execution_count": 46,
     "metadata": {},
     "output_type": "execute_result"
    },
    {
     "data": {
      "image/png": "[encoded data removed]",
      "text/plain": [
       "<Figure size 720x360 with 1 Axes>"
      ]
     },
     "metadata": {},
     "output_type": "display_data"
    }
   ],
   "source": [
    "acc_week_rate = acc_week_comb[['Week', 'Fatal_Rate', 'Serious_Rate', 'Slight_Rate']].copy().set_index('Week')\n",
    "# plot\n",
    "fig, ax = plt.subplots(figsize=(10,5))\n",
    "acc_week_rate.reindex(week_name_ordered).plot(kind='barh', ax=ax, stacked=True, cmap='viridis')\n",
    "ax.set_title('\\nSeverity Rate to Week\\n', fontsize=14, fontweight='bold')\n",
    "ax.set(xlabel='Severity Rate (%)', ylabel='Week')\n",
    "ax.legend(bbox_to_anchor=(1.25, 1), frameon=False)"
   ]
  },
  {
   "cell_type": "markdown",
   "metadata": {},
   "source": [
    "### 小結\n",
    "星期一到星期日，哪一天最常發生事故？各事故嚴重性的分布為何？\n",
    "- 星期一到星期日，星期五的事故數量最多，次之為星期一；而週末的事故數量比平日都來的少，星期日為最少\n",
    "- 週末的事故數量雖然都比平日少，但是死亡事故的比率卻高出平日許多，週日和週六分別為 1.8% 及 1.6%，其中平日最高者為星期一的 1.2%"
   ]
  },
  {
   "cell_type": "markdown",
   "metadata": {},
   "source": [
    "### 3.3. 一天的哪個時段\n",
    "- 一天當中，哪個時段最常發生事故呢？\n",
    "- 一天當中，哪個時段最常發生死亡事故呢？上下班車流量大的時候嗎？"
   ]
  },
  {
   "cell_type": "code",
   "execution_count": 47,
   "metadata": {},
   "outputs": [],
   "source": [
    "acc_hour = accidents.groupby(['Hour'])[['Accident_Index']].count().rename(columns={'Accident_Index': 'Accident_Cnt'})\n",
    "acc_hour = acc_hour.drop(index=-1)\n",
    "acc_hour = acc_hour.reset_index()"
   ]
  },
  {
   "cell_type": "code",
   "execution_count": 48,
   "metadata": {},
   "outputs": [],
   "source": [
    "acc_hour_fatal = accidents[accidents['Accident_Severity']==1].groupby(['Hour'])[['Accident_Index']].count().rename(columns={'Accident_Index': 'Fatal_Cnt'})\n",
    "acc_hour_fatal = acc_hour_fatal.drop(index=-1)\n",
    "acc_hour_fatal = acc_hour_fatal.reset_index()"
   ]
  },
  {
   "cell_type": "code",
   "execution_count": 49,
   "metadata": {},
   "outputs": [],
   "source": [
    "acc_hour_comb = pd.merge(acc_hour, acc_hour_fatal, on='Hour', how='inner')\n",
    "acc_hour_comb['Fatal_Rate'] = round(acc_hour_comb['Fatal_Cnt']/acc_hour_comb['Accident_Cnt'], 6) * 100\n",
    "acc_hour_comb = acc_hour_comb.set_index('Hour')\n",
    "acc_hour_comb =  acc_hour_comb.reindex(index=acc_hour_comb.index[::-1])"
   ]
  },
  {
   "cell_type": "code",
   "execution_count": 50,
   "metadata": {},
   "outputs": [
    {
     "data": {
      "text/plain": [
       "<matplotlib.legend.Legend at 0x250816aefd0>"
      ]
     },
     "execution_count": 50,
     "metadata": {},
     "output_type": "execute_result"
    },
    {
     "data": {
      "image/png": "[encoded data removed]",
      "text/plain": [
       "<Figure size 720x360 with 1 Axes>"
      ]
     },
     "metadata": {},
     "output_type": "display_data"
    }
   ],
   "source": [
    "sns.set_style('white')\n",
    "fig, ax = plt.subplots(figsize=(10,5))\n",
    "# plot\n",
    "acc_hour_comb[['Accident_Cnt']].plot(kind='barh', ax=ax)\n",
    "ax.set_title('\\nAccidents per Hour\\n', fontsize=14, fontweight='bold')\n",
    "ax.set(xlabel='\\nNumber', ylabel='')\n",
    "ax.legend('')"
   ]
  },
  {
   "cell_type": "code",
   "execution_count": 51,
   "metadata": {},
   "outputs": [
    {
     "data": {
      "text/plain": [
       "<matplotlib.legend.Legend at 0x25081882e10>"
      ]
     },
     "execution_count": 51,
     "metadata": {},
     "output_type": "execute_result"
    },
    {
     "data": {
      "image/png": "[encoded data removed]",
      "text/plain": [
       "<Figure size 720x360 with 1 Axes>"
      ]
     },
     "metadata": {},
     "output_type": "display_data"
    }
   ],
   "source": [
    "sns.set_style('white')\n",
    "fig, ax = plt.subplots(figsize=(10,5))\n",
    "# plot\n",
    "acc_hour_comb[['Fatal_Cnt']].plot(kind='barh', ax=ax)\n",
    "ax.set_title('\\nFatal Accidents per Hour\\n', fontsize=14, fontweight='bold')\n",
    "ax.set(xlabel='\\nNumber', ylabel='')\n",
    "ax.legend('')"
   ]
  },
  {
   "cell_type": "code",
   "execution_count": 52,
   "metadata": {},
   "outputs": [
    {
     "data": {
      "text/plain": [
       "<matplotlib.legend.Legend at 0x250819359b0>"
      ]
     },
     "execution_count": 52,
     "metadata": {},
     "output_type": "execute_result"
    },
    {
     "data": {
      "image/png": "[encoded data removed]",
      "text/plain": [
       "<Figure size 720x360 with 1 Axes>"
      ]
     },
     "metadata": {},
     "output_type": "display_data"
    }
   ],
   "source": [
    "sns.set_style('white')\n",
    "fig, ax = plt.subplots(figsize=(10,5))\n",
    "# plot\n",
    "acc_hour_comb[['Fatal_Rate']].plot(kind='barh', ax=ax)\n",
    "ax.set_title('\\nFatal Rate(%) of Accidents per Hour\\n', fontsize=14, fontweight='bold')\n",
    "ax.set(xlabel='\\nNumber', ylabel='')\n",
    "ax.legend('')"
   ]
  },
  {
   "cell_type": "markdown",
   "metadata": {},
   "source": [
    "### 小結\n",
    "一天當中，哪個時段最常發生事故？又哪個時段最常發生死亡事故？\n",
    "- 從事故數量來看，集中在上班的 8 時及下班的 15-18 時；比起上班區間，下班區間較多事故發生，其中以 17 時為最多\n",
    "- 從死亡事故數量來看，17 時也是最多\n",
    "- 但是從死亡事故佔比來看，死亡比率最高的時段集中在 0 - 5 時，死亡比率達 3% 以上，其中以 3 時為最高，高達 4%"
   ]
  },
  {
   "cell_type": "markdown",
   "metadata": {},
   "source": [
    "### 3.4. 都市或鄉村\n",
    "- 「都市或鄉村」在「平日或週末」上事故的分布\n",
    "- 「都市或鄉村」在「平日或週末」上死亡事故的分布"
   ]
  },
  {
   "cell_type": "code",
   "execution_count": 53,
   "metadata": {},
   "outputs": [],
   "source": [
    "df_loc = accidents[['Accident_Index', 'Urban_or_Rural_Area', 'Day_of_Week', 'Accident_Severity']].copy()"
   ]
  },
  {
   "cell_type": "code",
   "execution_count": 54,
   "metadata": {},
   "outputs": [],
   "source": [
    "# 依照 'Day_of_Week' 欄位，歸類為平日 (weekday) 或週末 (weekend)\n",
    "df_loc['Weekday_Or_Weekend'] = df_loc['Day_of_Week'].apply(lambda x: 'weekend' if x == 1 or x == 7 else 'weekday')"
   ]
  },
  {
   "cell_type": "code",
   "execution_count": 55,
   "metadata": {},
   "outputs": [],
   "source": [
    "acc_loc = df_loc.groupby(['Urban_or_Rural_Area', 'Weekday_Or_Weekend'])[['Accident_Index']].count().rename(columns={'Accident_Index': 'Accident_Cnt'})\n",
    "acc_loc = acc_loc.drop(index=[-1, 3])"
   ]
  },
  {
   "cell_type": "markdown",
   "metadata": {},
   "source": [
    "#### 事故數量分布"
   ]
  },
  {
   "cell_type": "code",
   "execution_count": 56,
   "metadata": {},
   "outputs": [
    {
     "data": {
      "text/html": [
       "<div>\n",
       "<style scoped>\n",
       "    .dataframe tbody tr th:only-of-type {\n",
       "        vertical-align: middle;\n",
       "    }\n",
       "\n",
       "    .dataframe tbody tr th {\n",
       "        vertical-align: top;\n",
       "    }\n",
       "\n",
       "    .dataframe thead tr th {\n",
       "        text-align: left;\n",
       "    }\n",
       "\n",
       "    .dataframe thead tr:last-of-type th {\n",
       "        text-align: right;\n",
       "    }\n",
       "</style>\n",
       "<table border=\"1\" class=\"dataframe\">\n",
       "  <thead>\n",
       "    <tr>\n",
       "      <th></th>\n",
       "      <th colspan=\"2\" halign=\"left\">Accident_Cnt</th>\n",
       "    </tr>\n",
       "    <tr>\n",
       "      <th>Weekday_Or_Weekend</th>\n",
       "      <th>weekday</th>\n",
       "      <th>weekend</th>\n",
       "    </tr>\n",
       "    <tr>\n",
       "      <th>Urban_or_Rural_Area</th>\n",
       "      <th></th>\n",
       "      <th></th>\n",
       "    </tr>\n",
       "  </thead>\n",
       "  <tbody>\n",
       "    <tr>\n",
       "      <th>urban</th>\n",
       "      <td>329462</td>\n",
       "      <td>100652</td>\n",
       "    </tr>\n",
       "    <tr>\n",
       "      <th>rural</th>\n",
       "      <td>160510</td>\n",
       "      <td>56105</td>\n",
       "    </tr>\n",
       "  </tbody>\n",
       "</table>\n",
       "</div>"
      ],
      "text/plain": [
       "                    Accident_Cnt        \n",
       "Weekday_Or_Weekend       weekday weekend\n",
       "Urban_or_Rural_Area                     \n",
       "urban                     329462  100652\n",
       "rural                     160510   56105"
      ]
     },
     "execution_count": 56,
     "metadata": {},
     "output_type": "execute_result"
    }
   ],
   "source": [
    "loc_summary = acc_loc.unstack().rename(index={1: 'urban', 2: 'rural'})\n",
    "loc_summary "
   ]
  },
  {
   "cell_type": "markdown",
   "metadata": {},
   "source": [
    "#### 死亡事故數量分布"
   ]
  },
  {
   "cell_type": "code",
   "execution_count": 57,
   "metadata": {},
   "outputs": [],
   "source": [
    "acc_loc_fatal = df_loc[df_loc['Accident_Severity']==1].groupby(['Urban_or_Rural_Area', 'Weekday_Or_Weekend'])[['Accident_Index']].count().rename(columns={'Accident_Index': 'Accident_Cnt'})\n",
    "acc_loc_fatal = acc_loc_fatal.drop(index=[3])"
   ]
  },
  {
   "cell_type": "code",
   "execution_count": 58,
   "metadata": {},
   "outputs": [
    {
     "data": {
      "text/html": [
       "<div>\n",
       "<style scoped>\n",
       "    .dataframe tbody tr th:only-of-type {\n",
       "        vertical-align: middle;\n",
       "    }\n",
       "\n",
       "    .dataframe tbody tr th {\n",
       "        vertical-align: top;\n",
       "    }\n",
       "\n",
       "    .dataframe thead tr th {\n",
       "        text-align: left;\n",
       "    }\n",
       "\n",
       "    .dataframe thead tr:last-of-type th {\n",
       "        text-align: right;\n",
       "    }\n",
       "</style>\n",
       "<table border=\"1\" class=\"dataframe\">\n",
       "  <thead>\n",
       "    <tr>\n",
       "      <th></th>\n",
       "      <th colspan=\"2\" halign=\"left\">Accident_Cnt</th>\n",
       "    </tr>\n",
       "    <tr>\n",
       "      <th>Weekday_Or_Weekend</th>\n",
       "      <th>weekday</th>\n",
       "      <th>weekend</th>\n",
       "    </tr>\n",
       "    <tr>\n",
       "      <th>Urban_or_Rural_Area</th>\n",
       "      <th></th>\n",
       "      <th></th>\n",
       "    </tr>\n",
       "  </thead>\n",
       "  <tbody>\n",
       "    <tr>\n",
       "      <th>urban</th>\n",
       "      <td>2175</td>\n",
       "      <td>913</td>\n",
       "    </tr>\n",
       "    <tr>\n",
       "      <th>rural</th>\n",
       "      <td>3483</td>\n",
       "      <td>1744</td>\n",
       "    </tr>\n",
       "  </tbody>\n",
       "</table>\n",
       "</div>"
      ],
      "text/plain": [
       "                    Accident_Cnt        \n",
       "Weekday_Or_Weekend       weekday weekend\n",
       "Urban_or_Rural_Area                     \n",
       "urban                       2175     913\n",
       "rural                       3483    1744"
      ]
     },
     "execution_count": 58,
     "metadata": {},
     "output_type": "execute_result"
    }
   ],
   "source": [
    "loc_summary_fatal = acc_loc_fatal.unstack().rename(index={1: 'urban', 2: 'rural'})\n",
    "loc_summary_fatal"
   ]
  },
  {
   "cell_type": "code",
   "execution_count": 59,
   "metadata": {},
   "outputs": [
    {
     "name": "stdout",
     "output_type": "stream",
     "text": [
      "urban: 3088\n",
      "rural: 5227\n"
     ]
    }
   ],
   "source": [
    "print('urban:', 2175 + 913)\n",
    "print('rural:', 3483 + 1744)"
   ]
  },
  {
   "cell_type": "markdown",
   "metadata": {},
   "source": [
    "#### 死亡事故的佔比 (%)"
   ]
  },
  {
   "cell_type": "code",
   "execution_count": 60,
   "metadata": {},
   "outputs": [
    {
     "data": {
      "text/html": [
       "<div>\n",
       "<style scoped>\n",
       "    .dataframe tbody tr th:only-of-type {\n",
       "        vertical-align: middle;\n",
       "    }\n",
       "\n",
       "    .dataframe tbody tr th {\n",
       "        vertical-align: top;\n",
       "    }\n",
       "\n",
       "    .dataframe thead tr th {\n",
       "        text-align: left;\n",
       "    }\n",
       "\n",
       "    .dataframe thead tr:last-of-type th {\n",
       "        text-align: right;\n",
       "    }\n",
       "</style>\n",
       "<table border=\"1\" class=\"dataframe\">\n",
       "  <thead>\n",
       "    <tr>\n",
       "      <th></th>\n",
       "      <th colspan=\"2\" halign=\"left\">Accident_Cnt</th>\n",
       "    </tr>\n",
       "    <tr>\n",
       "      <th>Weekday_Or_Weekend</th>\n",
       "      <th>weekday</th>\n",
       "      <th>weekend</th>\n",
       "    </tr>\n",
       "    <tr>\n",
       "      <th>Urban_or_Rural_Area</th>\n",
       "      <th></th>\n",
       "      <th></th>\n",
       "    </tr>\n",
       "  </thead>\n",
       "  <tbody>\n",
       "    <tr>\n",
       "      <th>urban</th>\n",
       "      <td>0.6602</td>\n",
       "      <td>0.9071</td>\n",
       "    </tr>\n",
       "    <tr>\n",
       "      <th>rural</th>\n",
       "      <td>2.1700</td>\n",
       "      <td>3.1085</td>\n",
       "    </tr>\n",
       "  </tbody>\n",
       "</table>\n",
       "</div>"
      ],
      "text/plain": [
       "                    Accident_Cnt        \n",
       "Weekday_Or_Weekend       weekday weekend\n",
       "Urban_or_Rural_Area                     \n",
       "urban                     0.6602  0.9071\n",
       "rural                     2.1700  3.1085"
      ]
     },
     "execution_count": 60,
     "metadata": {},
     "output_type": "execute_result"
    }
   ],
   "source": [
    "loc_summary_rate = round(loc_summary_fatal / loc_summary, 6) * 100\n",
    "loc_summary_rate"
   ]
  },
  {
   "cell_type": "markdown",
   "metadata": {},
   "source": [
    "#### 小結\n",
    "「都市或鄉村」在「平日或週末」上事故的分布？其中為死亡事故的分布？\n",
    "- 從事故的總數量來看，都市比鄉村多\n",
    "- 但是從死亡事故的數量來看，則是鄉村比都市多，多了 2 千多起死亡事故\n",
    "- 單看都市在「平日或週末」的分布，週末的死亡事故機率比平日高\n",
    "- 綜合「都市或鄉村」與「平日或週末」的維度來看，週末的鄉村有最高的死亡事故比率，高達 3%"
   ]
  },
  {
   "cell_type": "markdown",
   "metadata": {},
   "source": [
    "### 3.5. 駕駛人性別\n",
    "- 性別為男或女的駕駛，誰比較常造成或遇到死亡事故？\n",
    "- 能不能以這份資料反駁女生不會開車這個刻板印象？"
   ]
  },
  {
   "cell_type": "code",
   "execution_count": 61,
   "metadata": {},
   "outputs": [],
   "source": [
    "df_acc_veh = pd.merge(accidents, vehicles, on='Accident_Index', how='left')"
   ]
  },
  {
   "cell_type": "code",
   "execution_count": 62,
   "metadata": {},
   "outputs": [],
   "source": [
    "# sub dataframe\n",
    "driver = df_acc_veh[['Accident_Index', 'Accident_Severity', 'Vehicle_Type', 'Sex_of_Driver', 'Age_Band_of_Driver']].copy()"
   ]
  },
  {
   "cell_type": "code",
   "execution_count": 63,
   "metadata": {},
   "outputs": [],
   "source": [
    "driver_gender = driver.groupby(['Sex_of_Driver'])[['Accident_Index']].count().reset_index().rename(columns={'Sex_of_Driver': 'Gender_of_Driver', 'Accident_Index': 'Accident_Cnt'})"
   ]
  },
  {
   "cell_type": "code",
   "execution_count": 64,
   "metadata": {},
   "outputs": [],
   "source": [
    "def acc_driver_gender(target):\n",
    "    df_target = driver[driver['Accident_Severity']==target].groupby(['Sex_of_Driver'])[['Accident_Index']].count().reset_index().rename(columns={'Sex_of_Driver': 'Gender_of_Driver', 'Accident_Index': 'Cnt_{}'.format(target)})\n",
    "    return df_target"
   ]
  },
  {
   "cell_type": "code",
   "execution_count": 65,
   "metadata": {},
   "outputs": [],
   "source": [
    "driver_gender_fatal = acc_driver_gender(1)\n",
    "driver_gender_serious = acc_driver_gender(2)\n",
    "driver_gender_slight = acc_driver_gender(3)"
   ]
  },
  {
   "cell_type": "code",
   "execution_count": 66,
   "metadata": {},
   "outputs": [],
   "source": [
    "# merge\n",
    "driver_gender_comb = pd.merge(driver_gender, driver_gender_fatal, on='Gender_of_Driver', how='left')\n",
    "driver_gender_comb = pd.merge(driver_gender_comb, driver_gender_serious, on='Gender_of_Driver', how='left')\n",
    "driver_gender_comb = pd.merge(driver_gender_comb, driver_gender_slight, on='Gender_of_Driver', how='left')\n",
    "driver_gender_comb['Cnt_1'] = driver_gender_comb['Cnt_1'].fillna(0).astype(int)"
   ]
  },
  {
   "cell_type": "code",
   "execution_count": 67,
   "metadata": {},
   "outputs": [],
   "source": [
    "# rate\n",
    "driver_gender_comb['Fatal_Rate'] = round(driver_gender_comb['Cnt_1']/driver_gender_comb['Accident_Cnt'], 6) * 100\n",
    "driver_gender_comb['Serious_Rate'] = round(driver_gender_comb['Cnt_2']/driver_gender_comb['Accident_Cnt'], 6) * 100\n",
    "driver_gender_comb['Slight_Rate'] = round(driver_gender_comb['Cnt_3']/driver_gender_comb['Accident_Cnt'], 6) * 100"
   ]
  },
  {
   "cell_type": "code",
   "execution_count": 68,
   "metadata": {},
   "outputs": [],
   "source": [
    "gender_names = ['missing', 'male', 'female', 'unknown']\n",
    "driver_gender_comb['Gender_of_Driver'] = gender_names"
   ]
  },
  {
   "cell_type": "code",
   "execution_count": 69,
   "metadata": {},
   "outputs": [],
   "source": [
    "# skip missing\n",
    "driver_gender_comb = driver_gender_comb[1:]"
   ]
  },
  {
   "cell_type": "code",
   "execution_count": 70,
   "metadata": {},
   "outputs": [
    {
     "data": {
      "text/plain": [
       "Text(0.5,1,'\\nNumber of Accidents vs Gender of Driver\\n')"
      ]
     },
     "execution_count": 70,
     "metadata": {},
     "output_type": "execute_result"
    },
    {
     "data": {
      "image/png": "[encoded data removed]",
      "text/plain": [
       "<Figure size 360x360 with 1 Axes>"
      ]
     },
     "metadata": {},
     "output_type": "display_data"
    }
   ],
   "source": [
    "fig, ax = plt.subplots(figsize=(5,5))\n",
    "driver_gender_comb['Accident_Cnt'].plot(kind='pie', \n",
    "                                        ax=ax,\n",
    "                                        labels = driver_gender_comb['Gender_of_Driver'], \n",
    "                                        autopct = '%1.2f%%',\n",
    "                                        cmap='Pastel1')\n",
    "ax.set_title('\\nNumber of Accidents vs Gender of Driver\\n', fontsize=14, fontweight='bold')"
   ]
  },
  {
   "cell_type": "code",
   "execution_count": 71,
   "metadata": {},
   "outputs": [
    {
     "data": {
      "text/html": [
       "<div>\n",
       "<style scoped>\n",
       "    .dataframe tbody tr th:only-of-type {\n",
       "        vertical-align: middle;\n",
       "    }\n",
       "\n",
       "    .dataframe tbody tr th {\n",
       "        vertical-align: top;\n",
       "    }\n",
       "\n",
       "    .dataframe thead th {\n",
       "        text-align: right;\n",
       "    }\n",
       "</style>\n",
       "<table border=\"1\" class=\"dataframe\">\n",
       "  <thead>\n",
       "    <tr style=\"text-align: right;\">\n",
       "      <th></th>\n",
       "      <th>Gender_of_Driver</th>\n",
       "      <th>Accident_Cnt</th>\n",
       "      <th>Fatal_Cnt</th>\n",
       "      <th>Serious_Cnt</th>\n",
       "      <th>Slight_Cnt</th>\n",
       "      <th>Fatal_Rate</th>\n",
       "      <th>Serious_Rate</th>\n",
       "      <th>Slight_Rate</th>\n",
       "    </tr>\n",
       "  </thead>\n",
       "  <tbody>\n",
       "    <tr>\n",
       "      <th>1</th>\n",
       "      <td>male</td>\n",
       "      <td>765017</td>\n",
       "      <td>11690</td>\n",
       "      <td>134357</td>\n",
       "      <td>618970</td>\n",
       "      <td>1.5281</td>\n",
       "      <td>17.5626</td>\n",
       "      <td>80.9093</td>\n",
       "    </tr>\n",
       "    <tr>\n",
       "      <th>2</th>\n",
       "      <td>female</td>\n",
       "      <td>326905</td>\n",
       "      <td>2597</td>\n",
       "      <td>43707</td>\n",
       "      <td>280601</td>\n",
       "      <td>0.7944</td>\n",
       "      <td>13.3699</td>\n",
       "      <td>85.8356</td>\n",
       "    </tr>\n",
       "    <tr>\n",
       "      <th>3</th>\n",
       "      <td>unknown</td>\n",
       "      <td>100072</td>\n",
       "      <td>539</td>\n",
       "      <td>13392</td>\n",
       "      <td>86141</td>\n",
       "      <td>0.5386</td>\n",
       "      <td>13.3824</td>\n",
       "      <td>86.0790</td>\n",
       "    </tr>\n",
       "  </tbody>\n",
       "</table>\n",
       "</div>"
      ],
      "text/plain": [
       "  Gender_of_Driver  Accident_Cnt  Fatal_Cnt  Serious_Cnt  Slight_Cnt  \\\n",
       "1             male        765017      11690       134357      618970   \n",
       "2           female        326905       2597        43707      280601   \n",
       "3          unknown        100072        539        13392       86141   \n",
       "\n",
       "   Fatal_Rate  Serious_Rate  Slight_Rate  \n",
       "1      1.5281       17.5626      80.9093  \n",
       "2      0.7944       13.3699      85.8356  \n",
       "3      0.5386       13.3824      86.0790  "
      ]
     },
     "execution_count": 71,
     "metadata": {},
     "output_type": "execute_result"
    }
   ],
   "source": [
    "driver_gender_comb = driver_gender_comb.rename(columns={'Cnt_1': 'Fatal_Cnt', 'Cnt_2': 'Serious_Cnt', 'Cnt_3': 'Slight_Cnt'})\n",
    "driver_gender_comb"
   ]
  },
  {
   "cell_type": "markdown",
   "metadata": {},
   "source": [
    "### 小結\n",
    "性別為男或女的駕駛，誰比較常造成或遇到死亡事故？\n",
    "- 這份資料中，男生駕駛的人數較多，約為女生駕駛的 2 倍\n",
    "- 女生駕駛造成或遇到死亡事故的機率較男生駕駛低"
   ]
  },
  {
   "cell_type": "markdown",
   "metadata": {},
   "source": [
    "### 3.6. 駕駛人年齡區間\n",
    "- 各年齡層的駕駛，誰最常造成或遇到死亡事故？"
   ]
  },
  {
   "cell_type": "code",
   "execution_count": 72,
   "metadata": {},
   "outputs": [],
   "source": [
    "driver_age_band = driver.groupby(['Age_Band_of_Driver'])[['Accident_Index']].count().reset_index().rename(columns={'Accident_Index': 'Accident_Cnt'})"
   ]
  },
  {
   "cell_type": "code",
   "execution_count": 73,
   "metadata": {},
   "outputs": [],
   "source": [
    "def acc_driver_age_band(target):\n",
    "    df_target = driver[driver['Accident_Severity']==target].groupby(['Age_Band_of_Driver'])[['Accident_Index']].count().reset_index().rename(columns={'Accident_Index': 'Cnt_{}'.format(target)})\n",
    "    return df_target"
   ]
  },
  {
   "cell_type": "code",
   "execution_count": 74,
   "metadata": {},
   "outputs": [],
   "source": [
    "driver_age_band_fatal = acc_driver_age_band(1)\n",
    "driver_age_band_serious = acc_driver_age_band(2)\n",
    "driver_age_band_slight = acc_driver_age_band(3)"
   ]
  },
  {
   "cell_type": "code",
   "execution_count": 75,
   "metadata": {},
   "outputs": [],
   "source": [
    "# merge\n",
    "driver_age_band_comb = pd.merge(driver_age_band, driver_age_band_fatal, on='Age_Band_of_Driver', how='left')\n",
    "driver_age_band_comb = pd.merge(driver_age_band_comb, driver_age_band_serious, on='Age_Band_of_Driver', how='left')\n",
    "driver_age_band_comb = pd.merge(driver_age_band_comb, driver_age_band_slight, on='Age_Band_of_Driver', how='left')\n",
    "driver_age_band_comb['Cnt_1'] = driver_age_band_comb['Cnt_1'].fillna(0).astype(int)\n",
    "# rate\n",
    "driver_age_band_comb['Fatal_Rate'] = round(driver_age_band_comb['Cnt_1']/driver_age_band_comb['Accident_Cnt'], 6) * 100\n",
    "driver_age_band_comb['Serious_Rate'] = round(driver_age_band_comb['Cnt_2']/driver_age_band_comb['Accident_Cnt'], 6) * 100\n",
    "driver_age_band_comb['Slight_Rate'] = round(driver_age_band_comb['Cnt_3']/driver_age_band_comb['Accident_Cnt'], 6) * 100"
   ]
  },
  {
   "cell_type": "code",
   "execution_count": 76,
   "metadata": {},
   "outputs": [
    {
     "data": {
      "text/html": [
       "<div>\n",
       "<style scoped>\n",
       "    .dataframe tbody tr th:only-of-type {\n",
       "        vertical-align: middle;\n",
       "    }\n",
       "\n",
       "    .dataframe tbody tr th {\n",
       "        vertical-align: top;\n",
       "    }\n",
       "\n",
       "    .dataframe thead th {\n",
       "        text-align: right;\n",
       "    }\n",
       "</style>\n",
       "<table border=\"1\" class=\"dataframe\">\n",
       "  <thead>\n",
       "    <tr style=\"text-align: right;\">\n",
       "      <th></th>\n",
       "      <th>Age_Band_of_Driver</th>\n",
       "      <th>Accident_Cnt</th>\n",
       "      <th>Cnt_1</th>\n",
       "      <th>Cnt_2</th>\n",
       "      <th>Cnt_3</th>\n",
       "      <th>Fatal_Rate</th>\n",
       "      <th>Serious_Rate</th>\n",
       "      <th>Slight_Rate</th>\n",
       "    </tr>\n",
       "  </thead>\n",
       "  <tbody>\n",
       "    <tr>\n",
       "      <th>0</th>\n",
       "      <td>missing</td>\n",
       "      <td>145792</td>\n",
       "      <td>677</td>\n",
       "      <td>17013</td>\n",
       "      <td>128102</td>\n",
       "      <td>0.4644</td>\n",
       "      <td>11.6694</td>\n",
       "      <td>87.8663</td>\n",
       "    </tr>\n",
       "    <tr>\n",
       "      <th>1</th>\n",
       "      <td>0 - 5</td>\n",
       "      <td>249</td>\n",
       "      <td>2</td>\n",
       "      <td>46</td>\n",
       "      <td>201</td>\n",
       "      <td>0.8032</td>\n",
       "      <td>18.4739</td>\n",
       "      <td>80.7229</td>\n",
       "    </tr>\n",
       "    <tr>\n",
       "      <th>2</th>\n",
       "      <td>6 - 10</td>\n",
       "      <td>2045</td>\n",
       "      <td>5</td>\n",
       "      <td>346</td>\n",
       "      <td>1694</td>\n",
       "      <td>0.2445</td>\n",
       "      <td>16.9193</td>\n",
       "      <td>82.8362</td>\n",
       "    </tr>\n",
       "    <tr>\n",
       "      <th>3</th>\n",
       "      <td>11 - 15</td>\n",
       "      <td>8389</td>\n",
       "      <td>37</td>\n",
       "      <td>1571</td>\n",
       "      <td>6781</td>\n",
       "      <td>0.4411</td>\n",
       "      <td>18.7269</td>\n",
       "      <td>80.8320</td>\n",
       "    </tr>\n",
       "    <tr>\n",
       "      <th>4</th>\n",
       "      <td>16 - 20</td>\n",
       "      <td>81185</td>\n",
       "      <td>872</td>\n",
       "      <td>14319</td>\n",
       "      <td>65994</td>\n",
       "      <td>1.0741</td>\n",
       "      <td>17.6375</td>\n",
       "      <td>81.2884</td>\n",
       "    </tr>\n",
       "    <tr>\n",
       "      <th>5</th>\n",
       "      <td>21 - 25</td>\n",
       "      <td>124690</td>\n",
       "      <td>1525</td>\n",
       "      <td>20022</td>\n",
       "      <td>103143</td>\n",
       "      <td>1.2230</td>\n",
       "      <td>16.0574</td>\n",
       "      <td>82.7195</td>\n",
       "    </tr>\n",
       "    <tr>\n",
       "      <th>6</th>\n",
       "      <td>26 - 35</td>\n",
       "      <td>251495</td>\n",
       "      <td>2901</td>\n",
       "      <td>38097</td>\n",
       "      <td>210497</td>\n",
       "      <td>1.1535</td>\n",
       "      <td>15.1482</td>\n",
       "      <td>83.6983</td>\n",
       "    </tr>\n",
       "    <tr>\n",
       "      <th>7</th>\n",
       "      <td>36 - 45</td>\n",
       "      <td>200642</td>\n",
       "      <td>2370</td>\n",
       "      <td>30825</td>\n",
       "      <td>167447</td>\n",
       "      <td>1.1812</td>\n",
       "      <td>15.3632</td>\n",
       "      <td>83.4556</td>\n",
       "    </tr>\n",
       "    <tr>\n",
       "      <th>8</th>\n",
       "      <td>46 - 55</td>\n",
       "      <td>183795</td>\n",
       "      <td>2622</td>\n",
       "      <td>31347</td>\n",
       "      <td>149826</td>\n",
       "      <td>1.4266</td>\n",
       "      <td>17.0554</td>\n",
       "      <td>81.5180</td>\n",
       "    </tr>\n",
       "    <tr>\n",
       "      <th>9</th>\n",
       "      <td>56 - 65</td>\n",
       "      <td>107057</td>\n",
       "      <td>1883</td>\n",
       "      <td>20120</td>\n",
       "      <td>85054</td>\n",
       "      <td>1.7589</td>\n",
       "      <td>18.7937</td>\n",
       "      <td>79.4474</td>\n",
       "    </tr>\n",
       "    <tr>\n",
       "      <th>10</th>\n",
       "      <td>66 - 75</td>\n",
       "      <td>53547</td>\n",
       "      <td>1045</td>\n",
       "      <td>10521</td>\n",
       "      <td>41981</td>\n",
       "      <td>1.9516</td>\n",
       "      <td>19.6482</td>\n",
       "      <td>78.4003</td>\n",
       "    </tr>\n",
       "    <tr>\n",
       "      <th>11</th>\n",
       "      <td>Over 75</td>\n",
       "      <td>33175</td>\n",
       "      <td>887</td>\n",
       "      <td>7232</td>\n",
       "      <td>25056</td>\n",
       "      <td>2.6737</td>\n",
       "      <td>21.7995</td>\n",
       "      <td>75.5268</td>\n",
       "    </tr>\n",
       "  </tbody>\n",
       "</table>\n",
       "</div>"
      ],
      "text/plain": [
       "   Age_Band_of_Driver  Accident_Cnt  Cnt_1  Cnt_2   Cnt_3  Fatal_Rate  \\\n",
       "0             missing        145792    677  17013  128102      0.4644   \n",
       "1               0 - 5           249      2     46     201      0.8032   \n",
       "2              6 - 10          2045      5    346    1694      0.2445   \n",
       "3             11 - 15          8389     37   1571    6781      0.4411   \n",
       "4             16 - 20         81185    872  14319   65994      1.0741   \n",
       "5             21 - 25        124690   1525  20022  103143      1.2230   \n",
       "6             26 - 35        251495   2901  38097  210497      1.1535   \n",
       "7             36 - 45        200642   2370  30825  167447      1.1812   \n",
       "8             46 - 55        183795   2622  31347  149826      1.4266   \n",
       "9             56 - 65        107057   1883  20120   85054      1.7589   \n",
       "10            66 - 75         53547   1045  10521   41981      1.9516   \n",
       "11            Over 75         33175    887   7232   25056      2.6737   \n",
       "\n",
       "    Serious_Rate  Slight_Rate  \n",
       "0        11.6694      87.8663  \n",
       "1        18.4739      80.7229  \n",
       "2        16.9193      82.8362  \n",
       "3        18.7269      80.8320  \n",
       "4        17.6375      81.2884  \n",
       "5        16.0574      82.7195  \n",
       "6        15.1482      83.6983  \n",
       "7        15.3632      83.4556  \n",
       "8        17.0554      81.5180  \n",
       "9        18.7937      79.4474  \n",
       "10       19.6482      78.4003  \n",
       "11       21.7995      75.5268  "
      ]
     },
     "execution_count": 76,
     "metadata": {},
     "output_type": "execute_result"
    }
   ],
   "source": [
    "age_band_name = ['missing', '0 - 5', '6 - 10', '11 - 15', '16 - 20', '21 - 25', '26 - 35', '36 - 45', '46 - 55', '56 - 65', '66 - 75', 'Over 75']\n",
    "driver_age_band_comb['Age_Band_of_Driver'] = age_band_name\n",
    "driver_age_band_comb"
   ]
  },
  {
   "cell_type": "code",
   "execution_count": 77,
   "metadata": {},
   "outputs": [],
   "source": [
    "# figure\n",
    "fig_age_band = driver_age_band_comb[['Age_Band_of_Driver', 'Fatal_Rate', 'Serious_Rate', 'Slight_Rate']].copy()\n",
    "fig_age_band = fig_age_band.set_index('Age_Band_of_Driver')\n",
    "fig_age_band = fig_age_band[1:].copy()"
   ]
  },
  {
   "cell_type": "code",
   "execution_count": 78,
   "metadata": {},
   "outputs": [
    {
     "data": {
      "image/png": "[encoded data removed]",
      "text/plain": [
       "<Figure size 720x432 with 2 Axes>"
      ]
     },
     "metadata": {},
     "output_type": "display_data"
    }
   ],
   "source": [
    "plt.figure(figsize=(10,6))\n",
    "sns.heatmap(fig_age_band.iloc[:, 0:1], cmap='Reds')\n",
    "plt.title('\\nFatal Rate vs Age Band of Driver\\n', fontsize=14, fontweight='bold')\n",
    "plt.show()"
   ]
  },
  {
   "cell_type": "markdown",
   "metadata": {},
   "source": [
    "### 小結\n",
    "各年齡層的駕駛，誰最常造成或遇到死亡事故？\n",
    "- 從 46-55 歲這個年齡區間開始，隨著年齡增加，造成或遇到死亡事故的機率越來越高，超過 75 歲這個年齡區間為最高\n",
    "- 而 21-25 歲則是 45 歲以下的年齡區間中，造成或遇到死亡事故機率偏高的族群"
   ]
  },
  {
   "cell_type": "markdown",
   "metadata": {},
   "source": [
    "### 3.7. 事故中容易死亡的人是誰\n",
    "- 駕駛、乘客、行人哪一類傷者的死亡機率最高？"
   ]
  },
  {
   "cell_type": "code",
   "execution_count": 79,
   "metadata": {},
   "outputs": [],
   "source": [
    "casualty_class = casualties.groupby('Casualty_Class')\n",
    "casualty_class = casualty_class.agg({'Accident_Index': 'nunique'})\n",
    "casualty_class = casualty_class.reset_index().rename(columns={'Accident_Index': 'Accident_Cnt'})"
   ]
  },
  {
   "cell_type": "code",
   "execution_count": 80,
   "metadata": {},
   "outputs": [],
   "source": [
    "casualty_class_fatal = casualties[casualties['Casualty_Severity']==1].groupby('Casualty_Class')\n",
    "casualty_class_fatal = casualty_class_fatal.agg({'Accident_Index': 'nunique'})\n",
    "casualty_class_fatal = casualty_class_fatal.reset_index().rename(columns={'Accident_Index': 'Fatal_Cnt'})"
   ]
  },
  {
   "cell_type": "code",
   "execution_count": 81,
   "metadata": {},
   "outputs": [],
   "source": [
    "casualty_class_comb = pd.merge(casualty_class, casualty_class_fatal, on='Casualty_Class')\n",
    "casualty_class_comb['Fatal_Rate'] = round(casualty_class_comb['Fatal_Cnt']/casualty_class_comb['Accident_Cnt'], 6) * 100"
   ]
  },
  {
   "cell_type": "code",
   "execution_count": 82,
   "metadata": {},
   "outputs": [],
   "source": [
    "casualty_class_comb['Casualty_Class'] = ['Driver or rider', 'Passenger', 'Pedestrian']"
   ]
  },
  {
   "cell_type": "code",
   "execution_count": 83,
   "metadata": {},
   "outputs": [
    {
     "data": {
      "text/html": [
       "<div>\n",
       "<style scoped>\n",
       "    .dataframe tbody tr th:only-of-type {\n",
       "        vertical-align: middle;\n",
       "    }\n",
       "\n",
       "    .dataframe tbody tr th {\n",
       "        vertical-align: top;\n",
       "    }\n",
       "\n",
       "    .dataframe thead th {\n",
       "        text-align: right;\n",
       "    }\n",
       "</style>\n",
       "<table border=\"1\" class=\"dataframe\">\n",
       "  <thead>\n",
       "    <tr style=\"text-align: right;\">\n",
       "      <th></th>\n",
       "      <th>Casualty_Class</th>\n",
       "      <th>Accident_Cnt</th>\n",
       "      <th>Fatal_Cnt</th>\n",
       "      <th>Fatal_Rate</th>\n",
       "    </tr>\n",
       "  </thead>\n",
       "  <tbody>\n",
       "    <tr>\n",
       "      <th>0</th>\n",
       "      <td>Driver or rider</td>\n",
       "      <td>484122</td>\n",
       "      <td>5197</td>\n",
       "      <td>1.0735</td>\n",
       "    </tr>\n",
       "    <tr>\n",
       "      <th>1</th>\n",
       "      <td>Passenger</td>\n",
       "      <td>136754</td>\n",
       "      <td>1214</td>\n",
       "      <td>0.8877</td>\n",
       "    </tr>\n",
       "    <tr>\n",
       "      <th>2</th>\n",
       "      <td>Pedestrian</td>\n",
       "      <td>111524</td>\n",
       "      <td>2219</td>\n",
       "      <td>1.9897</td>\n",
       "    </tr>\n",
       "  </tbody>\n",
       "</table>\n",
       "</div>"
      ],
      "text/plain": [
       "    Casualty_Class  Accident_Cnt  Fatal_Cnt  Fatal_Rate\n",
       "0  Driver or rider        484122       5197      1.0735\n",
       "1        Passenger        136754       1214      0.8877\n",
       "2       Pedestrian        111524       2219      1.9897"
      ]
     },
     "execution_count": 83,
     "metadata": {},
     "output_type": "execute_result"
    }
   ],
   "source": [
    "casualty_class_comb"
   ]
  },
  {
   "cell_type": "markdown",
   "metadata": {},
   "source": [
    "### 小結\n",
    "駕駛、乘客、行人哪一類傷者的死亡機率最高？\n",
    "- 死亡機率最高的類別是行人，約為駕駛或乘客的 2 倍\n",
    "- 駕駛或乘客的死亡機率差異不大"
   ]
  }
 ],
 "metadata": {
  "kernelspec": {
   "display_name": "Python 3",
   "language": "python",
   "name": "python3"
  },
  "language_info": {
   "codemirror_mode": {
    "name": "ipython",
    "version": 3
   },
   "file_extension": ".py",
   "mimetype": "text/x-python",
   "name": "python",
   "nbconvert_exporter": "python",
   "pygments_lexer": "ipython3",
   "version": "3.6.5"
  }
 },
 "nbformat": 4,
 "nbformat_minor": 2
}
